{
 "cells": [
  {
   "attachments": {},
   "cell_type": "markdown",
   "id": "f5cb8f6c-94df-4e39-b208-e54edc3a9df6",
   "metadata": {},
   "source": [
    "# Hands-On NLP — Class 2"
   ]
  },
  {
   "attachments": {},
   "cell_type": "markdown",
   "id": "aaf60f2c",
   "metadata": {},
   "source": [
    "<span style=\"color:magenta\">Group members:</span>\n",
    "\n",
    "* Carlos Cuevas Villarmín\n",
    "* Javier Alejandro Lopetegui González\n",
    "* José Felipe Espinosa Orjuela"
   ]
  },
  {
   "attachments": {},
   "cell_type": "markdown",
   "id": "1e5beddc-b0f9-4cb4-92a7-e1270c541dd0",
   "metadata": {},
   "source": [
    "## Outline\n",
    "\n",
    "- Embeddings from scratch\n",
    "\n",
    "- Classifications with embeddings"
   ]
  },
  {
   "cell_type": "code",
   "execution_count": 20,
   "id": "34fb89e7",
   "metadata": {},
   "outputs": [],
   "source": [
    "from pathlib import Path\n",
    "\n",
    "import matplotlib.pyplot as plt\n",
    "import nltk\n",
    "import numpy as np\n",
    "import pandas as pd\n",
    "import seaborn as sns\n",
    "import sklearn\n",
    "from nltk.tokenize import word_tokenize\n",
    "from sklearn import (\n",
    "    decomposition,\n",
    "    ensemble,\n",
    "    linear_model,\n",
    "    metrics,\n",
    "    model_selection,\n",
    "    multiclass,\n",
    "    naive_bayes,\n",
    "    neighbors,\n",
    "    svm,\n",
    "    tree,\n",
    ")\n",
    "#import pca\n",
    "from sklearn.decomposition import PCA\n",
    "\n",
    "from sklearn.feature_extraction.text import CountVectorizer\n",
    "from tqdm.notebook import tqdm"
   ]
  },
  {
   "cell_type": "code",
   "execution_count": 5,
   "id": "a8c44f31",
   "metadata": {},
   "outputs": [
    {
     "name": "stdout",
     "output_type": "stream",
     "text": [
      "sklearn 1.3.0\n"
     ]
    },
    {
     "name": "stderr",
     "output_type": "stream",
     "text": [
      "[nltk_data] Downloading package punkt to\n",
      "[nltk_data]     /Users/javierlopetegui/nltk_data...\n",
      "[nltk_data]   Package punkt is already up-to-date!\n"
     ]
    }
   ],
   "source": [
    "tqdm.pandas()\n",
    "\n",
    "nltk.download(\"punkt\")\n",
    "\n",
    "print(\"sklearn\", sklearn.__version__)   # 1.3.2\n",
    "\n",
    "sns.set_style(\"darkgrid\")\n",
    "sns.set_context(\"notebook\")\n",
    "\n",
    "pd.set_option(\"display.precision\", 2)"
   ]
  },
  {
   "cell_type": "code",
   "execution_count": 2,
   "id": "fc4055fd",
   "metadata": {},
   "outputs": [],
   "source": [
    "%config InlineBackend.figure_format=\"retina\"  # For high DPI display\n",
    "\n",
    "# %load_ext blackcellmagic"
   ]
  },
  {
   "cell_type": "code",
   "execution_count": 7,
   "id": "7d358411-4001-4000-94e8-65d3b7a6ee76",
   "metadata": {},
   "outputs": [],
   "source": [
    "DATA = Path(\"./data\")\n",
    "\n",
    "TEXT_P = DATA / \"texts\"\n",
    "\n",
    "CORPORA = [\n",
    "    \"mythology\",\n",
    "    \"woodworking\",\n",
    "    \"robotics\",\n",
    "    \"hsm\",\n",
    "    \"health\",\n",
    "    \"portuguese\",\n",
    "]\n",
    "\n",
    "EPS = np.finfo(float).eps"
   ]
  },
  {
   "attachments": {},
   "cell_type": "markdown",
   "id": "c0cece58",
   "metadata": {},
   "source": [
    "## Getting the data"
   ]
  },
  {
   "cell_type": "code",
   "execution_count": 8,
   "id": "d25965c4",
   "metadata": {},
   "outputs": [
    {
     "data": {
      "application/vnd.jupyter.widget-view+json": {
       "model_id": "5e0251a474b142d2974eba70a57028ca",
       "version_major": 2,
       "version_minor": 0
      },
      "text/plain": [
       "  0%|          | 0/6 [00:00<?, ?it/s]"
      ]
     },
     "metadata": {},
     "output_type": "display_data"
    },
    {
     "name": "stdout",
     "output_type": "stream",
     "text": [
      "mythology\n",
      "woodworking\n",
      "robotics\n",
      "hsm\n",
      "health\n",
      "portuguese\n"
     ]
    },
    {
     "data": {
      "text/html": [
       "<div>\n",
       "<style scoped>\n",
       "    .dataframe tbody tr th:only-of-type {\n",
       "        vertical-align: middle;\n",
       "    }\n",
       "\n",
       "    .dataframe tbody tr th {\n",
       "        vertical-align: top;\n",
       "    }\n",
       "\n",
       "    .dataframe thead th {\n",
       "        text-align: right;\n",
       "    }\n",
       "</style>\n",
       "<table border=\"1\" class=\"dataframe\">\n",
       "  <thead>\n",
       "    <tr style=\"text-align: right;\">\n",
       "      <th></th>\n",
       "      <th>files_n</th>\n",
       "      <th>chars_n</th>\n",
       "      <th>text</th>\n",
       "    </tr>\n",
       "    <tr>\n",
       "      <th>corpus</th>\n",
       "      <th></th>\n",
       "      <th></th>\n",
       "      <th></th>\n",
       "    </tr>\n",
       "  </thead>\n",
       "  <tbody>\n",
       "    <tr>\n",
       "      <th>mythology</th>\n",
       "      <td>1428</td>\n",
       "      <td>4689305</td>\n",
       "      <td>Q:\\n\\nCan anyone identify what Chinese mytholo...</td>\n",
       "    </tr>\n",
       "    <tr>\n",
       "      <th>woodworking</th>\n",
       "      <td>2461</td>\n",
       "      <td>6729416</td>\n",
       "      <td>Q:\\n\\nGlue-up for butcher block-style countert...</td>\n",
       "    </tr>\n",
       "    <tr>\n",
       "      <th>robotics</th>\n",
       "      <td>2981</td>\n",
       "      <td>7254006</td>\n",
       "      <td>Q:\\n\\nHow is this torque value arrived?\\n\\nI'm...</td>\n",
       "    </tr>\n",
       "    <tr>\n",
       "      <th>hsm</th>\n",
       "      <td>2329</td>\n",
       "      <td>7364214</td>\n",
       "      <td>Q:\\n\\nWhen and why did people stopped using \"n...</td>\n",
       "    </tr>\n",
       "    <tr>\n",
       "      <th>health</th>\n",
       "      <td>3412</td>\n",
       "      <td>9148631</td>\n",
       "      <td>Q:\\n\\nHelp reading an eyeglass prescription: W...</td>\n",
       "    </tr>\n",
       "    <tr>\n",
       "      <th>portuguese</th>\n",
       "      <td>1840</td>\n",
       "      <td>4415251</td>\n",
       "      <td>Q:\\n\\nQual a origem da expressão \"o fim da pic...</td>\n",
       "    </tr>\n",
       "  </tbody>\n",
       "</table>\n",
       "</div>"
      ],
      "text/plain": [
       "             files_n  chars_n  \\\n",
       "corpus                          \n",
       "mythology       1428  4689305   \n",
       "woodworking     2461  6729416   \n",
       "robotics        2981  7254006   \n",
       "hsm             2329  7364214   \n",
       "health          3412  9148631   \n",
       "portuguese      1840  4415251   \n",
       "\n",
       "                                                          text  \n",
       "corpus                                                          \n",
       "mythology    Q:\\n\\nCan anyone identify what Chinese mytholo...  \n",
       "woodworking  Q:\\n\\nGlue-up for butcher block-style countert...  \n",
       "robotics     Q:\\n\\nHow is this torque value arrived?\\n\\nI'm...  \n",
       "hsm          Q:\\n\\nWhen and why did people stopped using \"n...  \n",
       "health       Q:\\n\\nHelp reading an eyeglass prescription: W...  \n",
       "portuguese   Q:\\n\\nQual a origem da expressão \"o fim da pic...  "
      ]
     },
     "execution_count": 8,
     "metadata": {},
     "output_type": "execute_result"
    }
   ],
   "source": [
    "corpora = {}\n",
    "stats = []\n",
    "\n",
    "for corpus in tqdm(CORPORA):\n",
    "    print(corpus)\n",
    "    texts = []\n",
    "    for fp in (TEXT_P / corpus).glob(\"*.txt\"):\n",
    "        with fp.open() as f:\n",
    "            texts.append(f.read())\n",
    "\n",
    "    corpora[corpus] = \"\".join(texts)\n",
    "\n",
    "    stats.append(\n",
    "        {\n",
    "            \"corpus\": corpus,\n",
    "            \"files_n\": len(texts),\n",
    "            \"chars_n\": len(corpora[corpus]),\n",
    "        }\n",
    "    )\n",
    "\n",
    "df = pd.DataFrame.from_records(stats, index=[\"corpus\"])\n",
    "df[\"text\"] = [corpora[corpus] for corpus in corpora]\n",
    "df"
   ]
  },
  {
   "attachments": {},
   "cell_type": "markdown",
   "id": "31757ef1-e978-40a3-960e-4ba20a3de1a6",
   "metadata": {},
   "source": [
    "### Tokenizing"
   ]
  },
  {
   "cell_type": "code",
   "execution_count": 9,
   "id": "d9011d01-8d97-4fbd-a924-816c8a57baa4",
   "metadata": {},
   "outputs": [],
   "source": [
    "# If your machine is slow, pickeling allows to go faster next time.\n",
    "\n",
    "tokens_fp = DATA / \"tokens.pkl\"\n",
    "try:\n",
    "    tokens = pd.read_pickle(tokens_fp)\n",
    "except FileNotFoundError:\n",
    "    tokens = df.text.progress_map(word_tokenize)\n",
    "    tokens.to_pickle(tokens_fp)"
   ]
  },
  {
   "cell_type": "code",
   "execution_count": 10,
   "id": "af66b99c",
   "metadata": {},
   "outputs": [
    {
     "data": {
      "text/html": [
       "<div>\n",
       "<style scoped>\n",
       "    .dataframe tbody tr th:only-of-type {\n",
       "        vertical-align: middle;\n",
       "    }\n",
       "\n",
       "    .dataframe tbody tr th {\n",
       "        vertical-align: top;\n",
       "    }\n",
       "\n",
       "    .dataframe thead th {\n",
       "        text-align: right;\n",
       "    }\n",
       "</style>\n",
       "<table border=\"1\" class=\"dataframe\">\n",
       "  <thead>\n",
       "    <tr style=\"text-align: right;\">\n",
       "      <th></th>\n",
       "      <th>files_n</th>\n",
       "      <th>chars_n</th>\n",
       "      <th>text</th>\n",
       "      <th>tokens</th>\n",
       "      <th>tokens_n</th>\n",
       "      <th>types_n</th>\n",
       "    </tr>\n",
       "    <tr>\n",
       "      <th>corpus</th>\n",
       "      <th></th>\n",
       "      <th></th>\n",
       "      <th></th>\n",
       "      <th></th>\n",
       "      <th></th>\n",
       "      <th></th>\n",
       "    </tr>\n",
       "  </thead>\n",
       "  <tbody>\n",
       "    <tr>\n",
       "      <th>mythology</th>\n",
       "      <td>1428</td>\n",
       "      <td>4689305</td>\n",
       "      <td>Q:\\n\\nCan anyone identify what Chinese mytholo...</td>\n",
       "      <td>[Q, :, Can, anyone, identify, what, Chinese, m...</td>\n",
       "      <td>942599</td>\n",
       "      <td>51253</td>\n",
       "    </tr>\n",
       "    <tr>\n",
       "      <th>woodworking</th>\n",
       "      <td>2461</td>\n",
       "      <td>6729416</td>\n",
       "      <td>Q:\\n\\nGlue-up for butcher block-style countert...</td>\n",
       "      <td>[Q, :, Glue-up, for, butcher, block-style, cou...</td>\n",
       "      <td>1390532</td>\n",
       "      <td>32318</td>\n",
       "    </tr>\n",
       "    <tr>\n",
       "      <th>robotics</th>\n",
       "      <td>2981</td>\n",
       "      <td>7254006</td>\n",
       "      <td>Q:\\n\\nHow is this torque value arrived?\\n\\nI'm...</td>\n",
       "      <td>[Q, :, How, is, this, torque, value, arrived, ...</td>\n",
       "      <td>1526904</td>\n",
       "      <td>53833</td>\n",
       "    </tr>\n",
       "    <tr>\n",
       "      <th>hsm</th>\n",
       "      <td>2329</td>\n",
       "      <td>7364214</td>\n",
       "      <td>Q:\\n\\nWhen and why did people stopped using \"n...</td>\n",
       "      <td>[Q, :, When, and, why, did, people, stopped, u...</td>\n",
       "      <td>1445136</td>\n",
       "      <td>62464</td>\n",
       "    </tr>\n",
       "    <tr>\n",
       "      <th>health</th>\n",
       "      <td>3412</td>\n",
       "      <td>9148631</td>\n",
       "      <td>Q:\\n\\nHelp reading an eyeglass prescription: W...</td>\n",
       "      <td>[Q, :, Help, reading, an, eyeglass, prescripti...</td>\n",
       "      <td>1714931</td>\n",
       "      <td>66006</td>\n",
       "    </tr>\n",
       "    <tr>\n",
       "      <th>portuguese</th>\n",
       "      <td>1840</td>\n",
       "      <td>4415251</td>\n",
       "      <td>Q:\\n\\nQual a origem da expressão \"o fim da pic...</td>\n",
       "      <td>[Q, :, Qual, a, origem, da, expressão, ``, o, ...</td>\n",
       "      <td>907242</td>\n",
       "      <td>60282</td>\n",
       "    </tr>\n",
       "  </tbody>\n",
       "</table>\n",
       "</div>"
      ],
      "text/plain": [
       "             files_n  chars_n  \\\n",
       "corpus                          \n",
       "mythology       1428  4689305   \n",
       "woodworking     2461  6729416   \n",
       "robotics        2981  7254006   \n",
       "hsm             2329  7364214   \n",
       "health          3412  9148631   \n",
       "portuguese      1840  4415251   \n",
       "\n",
       "                                                          text  \\\n",
       "corpus                                                           \n",
       "mythology    Q:\\n\\nCan anyone identify what Chinese mytholo...   \n",
       "woodworking  Q:\\n\\nGlue-up for butcher block-style countert...   \n",
       "robotics     Q:\\n\\nHow is this torque value arrived?\\n\\nI'm...   \n",
       "hsm          Q:\\n\\nWhen and why did people stopped using \"n...   \n",
       "health       Q:\\n\\nHelp reading an eyeglass prescription: W...   \n",
       "portuguese   Q:\\n\\nQual a origem da expressão \"o fim da pic...   \n",
       "\n",
       "                                                        tokens  tokens_n  \\\n",
       "corpus                                                                     \n",
       "mythology    [Q, :, Can, anyone, identify, what, Chinese, m...    942599   \n",
       "woodworking  [Q, :, Glue-up, for, butcher, block-style, cou...   1390532   \n",
       "robotics     [Q, :, How, is, this, torque, value, arrived, ...   1526904   \n",
       "hsm          [Q, :, When, and, why, did, people, stopped, u...   1445136   \n",
       "health       [Q, :, Help, reading, an, eyeglass, prescripti...   1714931   \n",
       "portuguese   [Q, :, Qual, a, origem, da, expressão, ``, o, ...    907242   \n",
       "\n",
       "             types_n  \n",
       "corpus                \n",
       "mythology      51253  \n",
       "woodworking    32318  \n",
       "robotics       53833  \n",
       "hsm            62464  \n",
       "health         66006  \n",
       "portuguese     60282  "
      ]
     },
     "execution_count": 10,
     "metadata": {},
     "output_type": "execute_result"
    }
   ],
   "source": [
    "df[\"tokens\"] = tokens\n",
    "df[\"tokens_n\"] = df.tokens.map(len)\n",
    "df[\"types_n\"] = df.tokens.map(set).map(len)\n",
    "df"
   ]
  },
  {
   "attachments": {},
   "cell_type": "markdown",
   "id": "8a82a4f9-c59e-4309-b001-e8ddb2612dac",
   "metadata": {},
   "source": [
    "## Vectorization"
   ]
  },
  {
   "attachments": {},
   "cell_type": "markdown",
   "id": "de52280a-7164-414f-9d41-ae63b2ab2766",
   "metadata": {},
   "source": [
    "### 🚧 TODO: How to vectorize text?\n",
    "\n",
    "- Try counting words in the stackoverflow corpus based on a given vocabulary\n",
    "\n",
    "- Apply reduction techniques to reduce the dimensionality to 2 dimensions (e.g., PCA)\n",
    "\n",
    "- Plot the 2D vectors"
   ]
  },
  {
   "cell_type": "code",
   "execution_count": 62,
   "id": "503a8e92",
   "metadata": {},
   "outputs": [],
   "source": [
    "words = (\n",
    "    \"myth,wood,robot,history,science,mathematics,health,portuguese,o\".split(\",\")\n",
    ")\n",
    "\n",
    "wc_df = pd.DataFrame(index=df.index)\n",
    "for w in words:\n",
    "    wc_df[w] = df.tokens.map(lambda x:x.count(w))\n"
   ]
  },
  {
   "cell_type": "code",
   "execution_count": 63,
   "id": "b7c55894",
   "metadata": {},
   "outputs": [
    {
     "data": {
      "text/html": [
       "<div>\n",
       "<style scoped>\n",
       "    .dataframe tbody tr th:only-of-type {\n",
       "        vertical-align: middle;\n",
       "    }\n",
       "\n",
       "    .dataframe tbody tr th {\n",
       "        vertical-align: top;\n",
       "    }\n",
       "\n",
       "    .dataframe thead th {\n",
       "        text-align: right;\n",
       "    }\n",
       "</style>\n",
       "<table border=\"1\" class=\"dataframe\">\n",
       "  <thead>\n",
       "    <tr style=\"text-align: right;\">\n",
       "      <th></th>\n",
       "      <th>myth</th>\n",
       "      <th>wood</th>\n",
       "      <th>robot</th>\n",
       "      <th>history</th>\n",
       "      <th>science</th>\n",
       "      <th>mathematics</th>\n",
       "      <th>health</th>\n",
       "      <th>portuguese</th>\n",
       "      <th>o</th>\n",
       "    </tr>\n",
       "    <tr>\n",
       "      <th>corpus</th>\n",
       "      <th></th>\n",
       "      <th></th>\n",
       "      <th></th>\n",
       "      <th></th>\n",
       "      <th></th>\n",
       "      <th></th>\n",
       "      <th></th>\n",
       "      <th></th>\n",
       "      <th></th>\n",
       "    </tr>\n",
       "  </thead>\n",
       "  <tbody>\n",
       "    <tr>\n",
       "      <th>mythology</th>\n",
       "      <td>769</td>\n",
       "      <td>55</td>\n",
       "      <td>6</td>\n",
       "      <td>179</td>\n",
       "      <td>21</td>\n",
       "      <td>4</td>\n",
       "      <td>18</td>\n",
       "      <td>0</td>\n",
       "      <td>27</td>\n",
       "    </tr>\n",
       "    <tr>\n",
       "      <th>woodworking</th>\n",
       "      <td>5</td>\n",
       "      <td>7535</td>\n",
       "      <td>0</td>\n",
       "      <td>18</td>\n",
       "      <td>9</td>\n",
       "      <td>0</td>\n",
       "      <td>48</td>\n",
       "      <td>0</td>\n",
       "      <td>2</td>\n",
       "    </tr>\n",
       "    <tr>\n",
       "      <th>robotics</th>\n",
       "      <td>0</td>\n",
       "      <td>21</td>\n",
       "      <td>4895</td>\n",
       "      <td>23</td>\n",
       "      <td>22</td>\n",
       "      <td>43</td>\n",
       "      <td>3</td>\n",
       "      <td>0</td>\n",
       "      <td>63</td>\n",
       "    </tr>\n",
       "    <tr>\n",
       "      <th>hsm</th>\n",
       "      <td>26</td>\n",
       "      <td>14</td>\n",
       "      <td>2</td>\n",
       "      <td>921</td>\n",
       "      <td>846</td>\n",
       "      <td>1578</td>\n",
       "      <td>28</td>\n",
       "      <td>1</td>\n",
       "      <td>25</td>\n",
       "    </tr>\n",
       "    <tr>\n",
       "      <th>health</th>\n",
       "      <td>46</td>\n",
       "      <td>10</td>\n",
       "      <td>1</td>\n",
       "      <td>207</td>\n",
       "      <td>114</td>\n",
       "      <td>6</td>\n",
       "      <td>1576</td>\n",
       "      <td>1</td>\n",
       "      <td>3</td>\n",
       "    </tr>\n",
       "    <tr>\n",
       "      <th>portuguese</th>\n",
       "      <td>2</td>\n",
       "      <td>11</td>\n",
       "      <td>3</td>\n",
       "      <td>13</td>\n",
       "      <td>3</td>\n",
       "      <td>1</td>\n",
       "      <td>8</td>\n",
       "      <td>41</td>\n",
       "      <td>14589</td>\n",
       "    </tr>\n",
       "  </tbody>\n",
       "</table>\n",
       "</div>"
      ],
      "text/plain": [
       "             myth  wood  robot  history  science  mathematics  health  \\\n",
       "corpus                                                                  \n",
       "mythology     769    55      6      179       21            4      18   \n",
       "woodworking     5  7535      0       18        9            0      48   \n",
       "robotics        0    21   4895       23       22           43       3   \n",
       "hsm            26    14      2      921      846         1578      28   \n",
       "health         46    10      1      207      114            6    1576   \n",
       "portuguese      2    11      3       13        3            1       8   \n",
       "\n",
       "             portuguese      o  \n",
       "corpus                          \n",
       "mythology             0     27  \n",
       "woodworking           0      2  \n",
       "robotics              0     63  \n",
       "hsm                   1     25  \n",
       "health                1      3  \n",
       "portuguese           41  14589  "
      ]
     },
     "execution_count": 63,
     "metadata": {},
     "output_type": "execute_result"
    }
   ],
   "source": [
    "wc_df"
   ]
  },
  {
   "cell_type": "code",
   "execution_count": 64,
   "id": "f1731b39",
   "metadata": {},
   "outputs": [
    {
     "data": {
      "text/plain": [
       "array([[-2172.11807505, -1204.418861  ],\n",
       "       [-3185.9537627 ,  5969.32416384],\n",
       "       [-2446.45160229, -2479.24649585],\n",
       "       [-2214.38228703, -1352.87210068],\n",
       "       [-2215.38517532, -1297.79394626],\n",
       "       [12234.29090238,   365.00723994]])"
      ]
     },
     "execution_count": 64,
     "metadata": {},
     "output_type": "execute_result"
    }
   ],
   "source": [
    "pca_model = PCA(n_components=2, random_state=42)\n",
    "wc_df_pca = pca_model.fit_transform(wc_df)\n",
    "wc_df_pca"
   ]
  },
  {
   "cell_type": "code",
   "execution_count": 65,
   "id": "1327faa4",
   "metadata": {},
   "outputs": [
    {
     "data": {
      "text/plain": [
       "<matplotlib.collections.PathCollection at 0x298adda80>"
      ]
     },
     "execution_count": 65,
     "metadata": {},
     "output_type": "execute_result"
    },
    {
     "data": {
      "image/png": "[encoded data removed]",
      "text/plain": [
       "<Figure size 640x480 with 1 Axes>"
      ]
     },
     "metadata": {
      "image/png": {
       "height": 416,
       "width": 572
      }
     },
     "output_type": "display_data"
    }
   ],
   "source": [
    "plt.scatter(wc_df_pca[:,0],wc_df_pca[:,1])"
   ]
  },
  {
   "attachments": {},
   "cell_type": "markdown",
   "id": "d2777696-4d21-4e8f-9709-7602ad814edb",
   "metadata": {},
   "source": [
    "#### Bag of words"
   ]
  },
  {
   "attachments": {},
   "cell_type": "markdown",
   "id": "de52280a-7164-414f-9d41-ae63b2ab2766",
   "metadata": {},
   "source": [
    "### 🚧 TODO: Implement another bag of words vectorizer model on the corpus\n",
    "\n",
    "*   This time using [sklearn's `CountVectorizer`](https://scikit-learn.org/stable/modules/generated/sklearn.feature_extraction.text.CountVectorizer.html)\n",
    "\n",
    "*   Try first the provided example in the `CountVectorizer` documentation\n",
    "\n",
    "    Try with and without the n-gram parameter\n",
    "\n",
    "*   Then try to vectorize the stackoverflow corpus using `vocabulary=words`"
   ]
  },
  {
   "cell_type": "markdown",
   "id": "477a56aa",
   "metadata": {},
   "source": [
    "#### First with a toy example"
   ]
  },
  {
   "cell_type": "code",
   "execution_count": 36,
   "id": "dd8ffd77-47f5-4366-95c9-b978b5c76f83",
   "metadata": {},
   "outputs": [],
   "source": [
    "corpus = [\n",
    "    \"This is the first document.\",\n",
    "    \"This document is the second document.\",\n",
    "    \"And this is the third one.\",\n",
    "    \"Is this the first document?\",\n",
    "]"
   ]
  },
  {
   "cell_type": "markdown",
   "id": "db837c68",
   "metadata": {},
   "source": [
    "With the whole vocabulary"
   ]
  },
  {
   "cell_type": "code",
   "execution_count": 38,
   "id": "dfe92734",
   "metadata": {},
   "outputs": [
    {
     "name": "stdout",
     "output_type": "stream",
     "text": [
      "['and' 'document' 'first' 'is' 'one' 'second' 'the' 'third' 'this']\n",
      "[[0 1 1 1 0 0 1 0 1]\n",
      " [0 2 0 1 0 1 1 0 1]\n",
      " [1 0 0 1 1 0 1 1 1]\n",
      " [0 1 1 1 0 0 1 0 1]]\n",
      "['and this' 'document is' 'first document' 'is the' 'is this'\n",
      " 'second document' 'the first' 'the second' 'the third' 'third one'\n",
      " 'this document' 'this is' 'this the']\n",
      "[[0 0 1 1 0 0 1 0 0 0 0 1 0]\n",
      " [0 1 0 1 0 1 0 1 0 0 1 0 0]\n",
      " [1 0 0 1 0 0 0 0 1 1 0 1 0]\n",
      " [0 0 1 0 1 0 1 0 0 0 0 0 1]]\n"
     ]
    }
   ],
   "source": [
    "vectorizer = CountVectorizer()\n",
    "xs = vectorizer.fit_transform(corpus)\n",
    "\n",
    "print(vectorizer.get_feature_names_out())\n",
    "print(xs.toarray())\n",
    "\n",
    "vectorizer_2g = CountVectorizer(analyzer='word', ngram_range=(2,2))\n",
    "x2gs = vectorizer_2g.fit_transform(corpus)\n",
    "\n",
    "print(vectorizer_2g.get_feature_names_out())\n",
    "print(x2gs.toarray())"
   ]
  },
  {
   "cell_type": "code",
   "execution_count": 39,
   "id": "e5d1544f",
   "metadata": {},
   "outputs": [
    {
     "data": {
      "text/html": [
       "<div>\n",
       "<style scoped>\n",
       "    .dataframe tbody tr th:only-of-type {\n",
       "        vertical-align: middle;\n",
       "    }\n",
       "\n",
       "    .dataframe tbody tr th {\n",
       "        vertical-align: top;\n",
       "    }\n",
       "\n",
       "    .dataframe thead th {\n",
       "        text-align: right;\n",
       "    }\n",
       "</style>\n",
       "<table border=\"1\" class=\"dataframe\">\n",
       "  <thead>\n",
       "    <tr style=\"text-align: right;\">\n",
       "      <th></th>\n",
       "      <th>Document</th>\n",
       "      <th>and</th>\n",
       "      <th>document</th>\n",
       "      <th>first</th>\n",
       "      <th>is</th>\n",
       "      <th>one</th>\n",
       "      <th>second</th>\n",
       "      <th>the</th>\n",
       "      <th>third</th>\n",
       "      <th>this</th>\n",
       "    </tr>\n",
       "  </thead>\n",
       "  <tbody>\n",
       "    <tr>\n",
       "      <th>0</th>\n",
       "      <td>This is the first document.</td>\n",
       "      <td>0</td>\n",
       "      <td>1</td>\n",
       "      <td>1</td>\n",
       "      <td>1</td>\n",
       "      <td>0</td>\n",
       "      <td>0</td>\n",
       "      <td>1</td>\n",
       "      <td>0</td>\n",
       "      <td>1</td>\n",
       "    </tr>\n",
       "    <tr>\n",
       "      <th>1</th>\n",
       "      <td>This document is the second document.</td>\n",
       "      <td>0</td>\n",
       "      <td>2</td>\n",
       "      <td>0</td>\n",
       "      <td>1</td>\n",
       "      <td>0</td>\n",
       "      <td>1</td>\n",
       "      <td>1</td>\n",
       "      <td>0</td>\n",
       "      <td>1</td>\n",
       "    </tr>\n",
       "    <tr>\n",
       "      <th>2</th>\n",
       "      <td>And this is the third one.</td>\n",
       "      <td>1</td>\n",
       "      <td>0</td>\n",
       "      <td>0</td>\n",
       "      <td>1</td>\n",
       "      <td>1</td>\n",
       "      <td>0</td>\n",
       "      <td>1</td>\n",
       "      <td>1</td>\n",
       "      <td>1</td>\n",
       "    </tr>\n",
       "    <tr>\n",
       "      <th>3</th>\n",
       "      <td>Is this the first document?</td>\n",
       "      <td>0</td>\n",
       "      <td>1</td>\n",
       "      <td>1</td>\n",
       "      <td>1</td>\n",
       "      <td>0</td>\n",
       "      <td>0</td>\n",
       "      <td>1</td>\n",
       "      <td>0</td>\n",
       "      <td>1</td>\n",
       "    </tr>\n",
       "  </tbody>\n",
       "</table>\n",
       "</div>"
      ],
      "text/plain": [
       "                                Document  and  document  first  is  one  \\\n",
       "0            This is the first document.    0         1      1   1    0   \n",
       "1  This document is the second document.    0         2      0   1    0   \n",
       "2             And this is the third one.    1         0      0   1    1   \n",
       "3            Is this the first document?    0         1      1   1    0   \n",
       "\n",
       "   second  the  third  this  \n",
       "0       0    1      0     1  \n",
       "1       1    1      0     1  \n",
       "2       0    1      1     1  \n",
       "3       0    1      0     1  "
      ]
     },
     "execution_count": 39,
     "metadata": {},
     "output_type": "execute_result"
    }
   ],
   "source": [
    "cv_df = pd.DataFrame(xs.toarray(), columns=vectorizer.get_feature_names_out())\n",
    "cv_df.insert(0, \"Document\", corpus)\n",
    "cv_df"
   ]
  },
  {
   "cell_type": "markdown",
   "id": "bc56e5ec",
   "metadata": {},
   "source": [
    "With a subset of the vocabulary"
   ]
  },
  {
   "cell_type": "code",
   "execution_count": 43,
   "id": "027bbe21",
   "metadata": {},
   "outputs": [
    {
     "name": "stdout",
     "output_type": "stream",
     "text": [
      "['and' 'document' 'first']\n",
      "[[0 1 1]\n",
      " [0 2 0]\n",
      " [1 0 0]\n",
      " [0 1 1]]\n"
     ]
    }
   ],
   "source": [
    "vocabulary = [\"and\", \"document\", \"first\"]\n",
    "vectorizer = CountVectorizer(vocabulary=vocabulary)\n",
    "x_fix_voc = vectorizer.fit_transform(corpus)\n",
    "print(vectorizer.get_feature_names_out())\n",
    "print(x_fix_voc.toarray())"
   ]
  },
  {
   "cell_type": "markdown",
   "id": "ee8dc7b0",
   "metadata": {},
   "source": [
    "#### Reprocess the stackoverflow corpora with `CountVectorizer`"
   ]
  },
  {
   "cell_type": "code",
   "execution_count": 51,
   "id": "1d47300f",
   "metadata": {},
   "outputs": [
    {
     "data": {
      "text/html": [
       "<div>\n",
       "<style scoped>\n",
       "    .dataframe tbody tr th:only-of-type {\n",
       "        vertical-align: middle;\n",
       "    }\n",
       "\n",
       "    .dataframe tbody tr th {\n",
       "        vertical-align: top;\n",
       "    }\n",
       "\n",
       "    .dataframe thead th {\n",
       "        text-align: right;\n",
       "    }\n",
       "</style>\n",
       "<table border=\"1\" class=\"dataframe\">\n",
       "  <thead>\n",
       "    <tr style=\"text-align: right;\">\n",
       "      <th></th>\n",
       "      <th>myth</th>\n",
       "      <th>wood</th>\n",
       "      <th>robot</th>\n",
       "      <th>history</th>\n",
       "      <th>science</th>\n",
       "      <th>mathematics</th>\n",
       "      <th>health</th>\n",
       "      <th>portuguese</th>\n",
       "      <th>o</th>\n",
       "    </tr>\n",
       "    <tr>\n",
       "      <th>corpus</th>\n",
       "      <th></th>\n",
       "      <th></th>\n",
       "      <th></th>\n",
       "      <th></th>\n",
       "      <th></th>\n",
       "      <th></th>\n",
       "      <th></th>\n",
       "      <th></th>\n",
       "      <th></th>\n",
       "    </tr>\n",
       "  </thead>\n",
       "  <tbody>\n",
       "    <tr>\n",
       "      <th>mythology</th>\n",
       "      <td>867</td>\n",
       "      <td>75</td>\n",
       "      <td>6</td>\n",
       "      <td>307</td>\n",
       "      <td>35</td>\n",
       "      <td>4</td>\n",
       "      <td>23</td>\n",
       "      <td>4</td>\n",
       "      <td>0</td>\n",
       "    </tr>\n",
       "    <tr>\n",
       "      <th>woodworking</th>\n",
       "      <td>5</td>\n",
       "      <td>8017</td>\n",
       "      <td>1</td>\n",
       "      <td>19</td>\n",
       "      <td>16</td>\n",
       "      <td>0</td>\n",
       "      <td>53</td>\n",
       "      <td>0</td>\n",
       "      <td>0</td>\n",
       "    </tr>\n",
       "    <tr>\n",
       "      <th>robotics</th>\n",
       "      <td>0</td>\n",
       "      <td>22</td>\n",
       "      <td>5321</td>\n",
       "      <td>25</td>\n",
       "      <td>33</td>\n",
       "      <td>50</td>\n",
       "      <td>3</td>\n",
       "      <td>2</td>\n",
       "      <td>0</td>\n",
       "    </tr>\n",
       "    <tr>\n",
       "      <th>hsm</th>\n",
       "      <td>28</td>\n",
       "      <td>17</td>\n",
       "      <td>2</td>\n",
       "      <td>1513</td>\n",
       "      <td>1174</td>\n",
       "      <td>2095</td>\n",
       "      <td>39</td>\n",
       "      <td>7</td>\n",
       "      <td>0</td>\n",
       "    </tr>\n",
       "    <tr>\n",
       "      <th>health</th>\n",
       "      <td>55</td>\n",
       "      <td>13</td>\n",
       "      <td>1</td>\n",
       "      <td>242</td>\n",
       "      <td>263</td>\n",
       "      <td>9</td>\n",
       "      <td>2178</td>\n",
       "      <td>4</td>\n",
       "      <td>0</td>\n",
       "    </tr>\n",
       "    <tr>\n",
       "      <th>portuguese</th>\n",
       "      <td>2</td>\n",
       "      <td>13</td>\n",
       "      <td>3</td>\n",
       "      <td>18</td>\n",
       "      <td>7</td>\n",
       "      <td>3</td>\n",
       "      <td>9</td>\n",
       "      <td>1061</td>\n",
       "      <td>0</td>\n",
       "    </tr>\n",
       "  </tbody>\n",
       "</table>\n",
       "</div>"
      ],
      "text/plain": [
       "             myth  wood  robot  history  science  mathematics  health  \\\n",
       "corpus                                                                  \n",
       "mythology     867    75      6      307       35            4      23   \n",
       "woodworking     5  8017      1       19       16            0      53   \n",
       "robotics        0    22   5321       25       33           50       3   \n",
       "hsm            28    17      2     1513     1174         2095      39   \n",
       "health         55    13      1      242      263            9    2178   \n",
       "portuguese      2    13      3       18        7            3       9   \n",
       "\n",
       "             portuguese  o  \n",
       "corpus                      \n",
       "mythology             4  0  \n",
       "woodworking           0  0  \n",
       "robotics              2  0  \n",
       "hsm                   7  0  \n",
       "health                4  0  \n",
       "portuguese         1061  0  "
      ]
     },
     "execution_count": 51,
     "metadata": {},
     "output_type": "execute_result"
    }
   ],
   "source": [
    "vectorizer = CountVectorizer(vocabulary=words)\n",
    "\n",
    "wc_cv = pd.DataFrame(index=df.index)\n",
    "wc_cv = vectorizer.fit_transform(df.text)\n",
    "wc_cv_df = pd.DataFrame(wc_cv.toarray(), columns=vectorizer.get_feature_names_out(), index=df.index)\n",
    "wc_cv_df"
   ]
  },
  {
   "cell_type": "code",
   "execution_count": 57,
   "id": "d07ee0d5",
   "metadata": {},
   "outputs": [
    {
     "name": "stdout",
     "output_type": "stream",
     "text": [
      "[[0 0 0 0 0 0 0 0 0]]\n"
     ]
    }
   ],
   "source": [
    "print(vectorizer.transform(['mythology']).toarray())"
   ]
  },
  {
   "attachments": {},
   "cell_type": "markdown",
   "id": "de52280a-7164-414f-9d41-ae63b2ab2766",
   "metadata": {},
   "source": [
    "### 🚧 TODO: Why is this different? \n",
    "\n",
    "- Try to explain\n",
    "\n",
    "- Give a simple example with the toy corpus below (with the same vocabulary)"
   ]
  },
  {
   "cell_type": "code",
   "execution_count": null,
   "id": "e3bd212c-0feb-4574-a469-0ab9170bdb3e",
   "metadata": {},
   "outputs": [],
   "source": [
    "test_text = (\n",
    "    \"myth wood robot history science mathematics health portuguese o \"\n",
    "    \"myth wood robot history science mathematics health portuguese o\"\n",
    ")\n",
    "\n",
    "# freqs = ...\n",
    "\n",
    "# test_wc_df = ..."
   ]
  },
  {
   "cell_type": "code",
   "execution_count": null,
   "id": "79d8e1c1-02aa-41d8-8007-53371c5f1c93",
   "metadata": {},
   "outputs": [],
   "source": [
    "# test_xs = vectorizer...\n",
    "\n",
    "# test_cv_df = ..."
   ]
  },
  {
   "attachments": {},
   "cell_type": "markdown",
   "id": "48039a73-0d8d-45ef-8975-b6b2e7b88db3",
   "metadata": {},
   "source": [
    "### 🚧 TODO: Is this difference important?\n",
    "\n",
    "• Visualize the PCAs of both models"
   ]
  },
  {
   "attachments": {},
   "cell_type": "markdown",
   "id": "00fdc300-0bec-484d-bd8f-b1e7c2eb65d3",
   "metadata": {},
   "source": [
    "-----------"
   ]
  },
  {
   "attachments": {},
   "cell_type": "markdown",
   "id": "8076c0e4-7fef-4c3c-9f20-9da6db790136",
   "metadata": {},
   "source": [
    "### Now let's hold the corpus as individual documents"
   ]
  },
  {
   "cell_type": "code",
   "execution_count": null,
   "id": "e2b59bc1",
   "metadata": {},
   "outputs": [],
   "source": [
    "data = []\n",
    "\n",
    "for i, corpus in enumerate(tqdm(CORPORA)):\n",
    "    print(corpus)\n",
    "    for fp in (TEXT_P / corpus).glob(\"*.txt\"):\n",
    "        with fp.open() as f:\n",
    "            text = f.read()\n",
    "        data.append(\n",
    "            {\n",
    "                \"id\": fp.stem,\n",
    "                \"text\": text,\n",
    "                \"category\": corpus,\n",
    "                \"cat_id\": i,\n",
    "            }\n",
    "        )"
   ]
  },
  {
   "cell_type": "code",
   "execution_count": null,
   "id": "99901d5e",
   "metadata": {},
   "outputs": [],
   "source": [
    "doc_df = pd.DataFrame.from_records(data).set_index(\"id\")\n",
    "doc_df"
   ]
  },
  {
   "attachments": {},
   "cell_type": "markdown",
   "id": "de52280a-7164-414f-9d41-ae63b2ab2766",
   "metadata": {},
   "source": [
    "#### 🚧 TODO: Plot (bar) the number of documents per category"
   ]
  },
  {
   "cell_type": "code",
   "execution_count": null,
   "id": "eecd067d",
   "metadata": {},
   "outputs": [],
   "source": [
    "# doc_df..."
   ]
  },
  {
   "attachments": {},
   "cell_type": "markdown",
   "id": "de52280a-7164-414f-9d41-ae63b2ab2766",
   "metadata": {},
   "source": [
    "#### 🚧 TODO: Boxplot the number of tokens per document\n",
    "\n",
    "* With and without outliers\n",
    "\n",
    "* Shortly explain the different values presented in a boxplot ([Wikipedia](https://en.wikipedia.org/wiki/Box_plot))\n",
    "\n",
    "* Are the texts of signifcantly different length? Argue shortly."
   ]
  },
  {
   "cell_type": "code",
   "execution_count": null,
   "id": "f5a1c11c",
   "metadata": {},
   "outputs": [],
   "source": [
    "# Careful: slow!\n",
    "\n",
    "# doc_df[\"tokens_n\"] ..."
   ]
  },
  {
   "attachments": {},
   "cell_type": "markdown",
   "id": "4ef700cb-f198-4e96-a9e3-f40933e6f0ac",
   "metadata": {},
   "source": [
    "#### 🚧 TODO: How to find the crazy long robotics text?\n",
    "\n",
    "*   Find the index of the longest text\n",
    "\n",
    "*   Show the content\n",
    "\n",
    "*   Explain why this text is so long (what does it contain?)"
   ]
  },
  {
   "cell_type": "code",
   "execution_count": null,
   "id": "63853558-558a-41df-b8ee-01264073ba1c",
   "metadata": {},
   "outputs": [],
   "source": [
    "# longests_df = doc_df[..."
   ]
  },
  {
   "attachments": {},
   "cell_type": "markdown",
   "id": "53f7b647-256d-4f18-80dd-0ee9065506c1",
   "metadata": {},
   "source": [
    "### Vectorizing again"
   ]
  },
  {
   "attachments": {},
   "cell_type": "markdown",
   "id": "cd66a141-d2b1-462e-bbb8-1f006f838ee0",
   "metadata": {},
   "source": [
    "#### 🚧 TODO: See how many features we get if we don't restrict their number\n",
    "\n",
    "* Use again the `CountVectorizer` to vectorize the stackoverflow corpus\n",
    "\n",
    "  * But use the whole vocabulary of the documents this time (**without** `vocabulary=words`)\n",
    "\n",
    "  * Tell how many features are obtained\n",
    "\n",
    "* Then limit the vocabulary to the 5000 most frequent words\n",
    "\n",
    "* Apply and plot dimensionality reduction to 2 dimensions as prevously \n",
    "  (only on the limited vocabulary)"
   ]
  },
  {
   "attachments": {},
   "cell_type": "markdown",
   "id": "de52280a-7164-414f-9d41-ae63b2ab2766",
   "metadata": {},
   "source": [
    "We want something like this:\n",
    "\n",
    "```python\n",
    "xs ~ doc_df.text\n",
    "ys ~ doc_df.cat_id\n",
    "```"
   ]
  },
  {
   "cell_type": "code",
   "execution_count": null,
   "id": "babf7f41-e740-4742-8a41-c43be749a7e0",
   "metadata": {},
   "outputs": [],
   "source": [
    "ys = doc_df.cat_id.values"
   ]
  },
  {
   "cell_type": "code",
   "execution_count": null,
   "id": "12e09960-c1da-4013-8761-362cd126d2dc",
   "metadata": {},
   "outputs": [],
   "source": [
    "# unconstrained_cv = CountVectorizer()\n",
    "# xs = ..."
   ]
  },
  {
   "cell_type": "code",
   "execution_count": null,
   "id": "5511fd39-8fb5-4d2a-9c7a-90f0130c7ea3",
   "metadata": {},
   "outputs": [],
   "source": [
    "# cv = CountVectorizer(max_features=5000)\n",
    "# xs = ..."
   ]
  },
  {
   "cell_type": "code",
   "execution_count": null,
   "id": "413caa47",
   "metadata": {},
   "outputs": [],
   "source": [
    "# pca = ..."
   ]
  },
  {
   "attachments": {},
   "cell_type": "markdown",
   "id": "cfe27d80-6708-4944-9823-c13090f29e0a",
   "metadata": {},
   "source": [
    "#### 🚧 TODO: Find that outlier!\n",
    "\n",
    "* Use pandas to find the document corresponding to the outlier\n",
    "\n",
    "* Print the correspoding text\n",
    "  \n",
    "* Tell what it contains (if you could figure it out)\n",
    "\n",
    "* Remove the corresping raw from the dataframe and redo the dimensional reduction (and plot)"
   ]
  },
  {
   "cell_type": "markdown",
   "id": "2517e8a0",
   "metadata": {},
   "source": [
    "#### 🚧 TODO: The reason for this outlier is...\n",
    "\n",
    "*   Give a short explanation\n",
    "\n",
    "*   Remove the outlier from the dataframe \n",
    "\n",
    "*   Redo the dimensional reduction\n",
    "\n",
    "*   Plot the 2D vectors and color them by category"
   ]
  },
  {
   "cell_type": "markdown",
   "id": "8d19ab04",
   "metadata": {},
   "source": [
    "## Train models to predict text subjects"
   ]
  },
  {
   "attachments": {},
   "cell_type": "markdown",
   "id": "caa14610-49bd-427b-81de-24a5345dbc63",
   "metadata": {},
   "source": [
    "### Split the data in training and test sets"
   ]
  },
  {
   "cell_type": "code",
   "execution_count": null,
   "id": "3158efc1-6a3f-4364-b82d-5fe6f1da8160",
   "metadata": {},
   "outputs": [],
   "source": [
    "train_xs, test_xs, train_ys, test_ys = model_selection.train_test_split(\n",
    "    xs, ys, test_size=0.3, random_state=0, shuffle=True\n",
    ")\n",
    "print(train_xs.shape)\n",
    "print(test_xs.shape)"
   ]
  },
  {
   "attachments": {},
   "cell_type": "markdown",
   "id": "5496e994",
   "metadata": {},
   "source": [
    "### 🚧 TODO: Apply different algorithms to try predicting the category\n",
    "\n",
    "* E.g., Logistic Regression, Multinomial Naive Bayes, Decision Tree Classifier, Random Forest, Support Vector Classifer.\n",
    "\n",
    "* You could investigate [`SGDClassifier`](https://scikit-learn.org/stable/modules/generated/sklearn.linear_model.SGDClassifier.html), which implements linear classifiers (e.g, SVM, logistic regression) with SGD training (faster).\n",
    "\n",
    "* Present a table with the results of the different algorithms (e.g., accuracy, precision, recall, f1-score) and their execution time\n",
    "\n",
    "* (Optional) Analyse 1 algorythm in detail (e.g., Logistic Regression)\n",
    "\n",
    "  *   Try different parameters (possibly with a grid search)\n",
    "\n",
    "  *   Present the [classification_report](https://scikit-learn.org/stable/modules/generated/sklearn.metrics.classification_report.html)\n",
    "\n",
    "  *   Present the confusion matrix of the best model"
   ]
  },
  {
   "attachments": {},
   "cell_type": "markdown",
   "id": "9f51ec23-3479-4f96-8d22-4779a87181e3",
   "metadata": {},
   "source": [
    "### 🚧 TODO: Explain what model seems to work best"
   ]
  },
  {
   "attachments": {},
   "cell_type": "markdown",
   "id": "1d850e54-f593-4be9-967b-fffd88423ed9",
   "metadata": {},
   "source": [
    "____"
   ]
  }
 ],
 "metadata": {
  "kernelspec": {
   "display_name": "honlp",
   "language": "python",
   "name": "python3"
  },
  "language_info": {
   "codemirror_mode": {
    "name": "ipython",
    "version": 3
   },
   "file_extension": ".py",
   "mimetype": "text/x-python",
   "name": "python",
   "nbconvert_exporter": "python",
   "pygments_lexer": "ipython3",
   "version": "3.10.13"
  },
  "vscode": {
   "interpreter": {
    "hash": "4092beadd17a8c123802d6bfeec2845d174d6d0bf5a666f517bdff4bcd2558e4"
   }
  }
 },
 "nbformat": 4,
 "nbformat_minor": 5
}
